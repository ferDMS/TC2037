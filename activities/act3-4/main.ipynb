{
 "cells": [
  {
   "cell_type": "markdown",
   "metadata": {},
   "source": [
    "# Actividad Integradora 3.4 Resaltador de sintaxis\n",
    "\n",
    "Fernando Daniel Monroy Sánchez - A01750536\n",
    "\n",
    "Eugenio Andrés Mejía Fanjón - A01412143\n"
   ]
  },
  {
   "cell_type": "code",
   "execution_count": null,
   "metadata": {},
   "outputs": [],
   "source": []
  }
 ],
 "metadata": {
  "language_info": {
   "name": "python"
  }
 },
 "nbformat": 4,
 "nbformat_minor": 2
}
